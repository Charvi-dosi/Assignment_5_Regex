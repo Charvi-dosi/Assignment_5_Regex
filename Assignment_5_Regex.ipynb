{
 "cells": [
  {
   "cell_type": "markdown",
   "metadata": {},
   "source": [
    "# Assignment 5"
   ]
  },
  {
   "cell_type": "code",
   "execution_count": 74,
   "metadata": {},
   "outputs": [
    {
     "name": "stdout",
     "output_type": "stream",
     "text": [
      "5 5 5 5 5  \n",
      "5 5 5 5  \n",
      "5 5 5  \n",
      "5 5  \n",
      "5  \n"
     ]
    }
   ],
   "source": [
    "for i in range(5,0,-1):\n",
    "    for j in range(0,i):\n",
    "        print(5,end=' ')\n",
    "    print(' ')"
   ]
  },
  {
   "cell_type": "code",
   "execution_count": 72,
   "metadata": {},
   "outputs": [
    {
     "name": "stdout",
     "output_type": "stream",
     "text": [
      "0 1 2 3 4 5  \n",
      "0 1 2 3 4  \n",
      "0 1 2 3  \n",
      "0 1 2  \n",
      "0 1  \n",
      " \n",
      " \n"
     ]
    }
   ],
   "source": [
    "for i in range(7,0,-1):\n",
    "    for j in range(0,i-1):\n",
    "        if i is not 2:\n",
    "            print(j,end=' ')\n",
    "    print(' ')"
   ]
  },
  {
   "cell_type": "code",
   "execution_count": 20,
   "metadata": {},
   "outputs": [
    {
     "name": "stdout",
     "output_type": "stream",
     "text": [
      "1  \n",
      "3 3  \n",
      "5 5 5  \n",
      "7 7 7 7  \n",
      "9 9 9 9 9  \n"
     ]
    }
   ],
   "source": [
    "for i in range(1,6):\n",
    "    for j in range(0,i):\n",
    "        k=(i*2)-1\n",
    "        print(k,end=' ')\n",
    "    print(' ')"
   ]
  },
  {
   "cell_type": "code",
   "execution_count": 22,
   "metadata": {},
   "outputs": [
    {
     "name": "stdout",
     "output_type": "stream",
     "text": [
      "1  \n",
      "2 1  \n",
      "3 2 1  \n",
      "4 3 2 1  \n",
      "5 4 3 2 1  \n"
     ]
    }
   ],
   "source": [
    "for i in range(1,6):\n",
    "    k=i\n",
    "    for j in range(0,i):\n",
    "        print(k,end=' ')\n",
    "        k=k-1\n",
    "    print(' ')"
   ]
  },
  {
   "cell_type": "code",
   "execution_count": 24,
   "metadata": {},
   "outputs": [
    {
     "name": "stdout",
     "output_type": "stream",
     "text": [
      "1  \n",
      "3 2  \n",
      "6 5 4  \n",
      "10 9 8 7  \n"
     ]
    }
   ],
   "source": [
    "k1=0\n",
    "for i in range(1,5):\n",
    "    k1+=i\n",
    "    k2=k1\n",
    "    for j in range(1,i+1):\n",
    "        print(k2,end=' ')\n",
    "        k2-=1\n",
    "    print(' ')"
   ]
  },
  {
   "cell_type": "code",
   "execution_count": 26,
   "metadata": {},
   "outputs": [
    {
     "name": "stdout",
     "output_type": "stream",
     "text": [
      "1  \n",
      "1 1  \n",
      "1 2 1  \n",
      "1 3 3 1  \n",
      "1 4 6 4 1  \n",
      "1 5 10 10 5 1  \n",
      "1 6 15 20 15 6 1  \n"
     ]
    }
   ],
   "source": [
    "for i in range(1,8):\n",
    "    k=1\n",
    "    for j in range(1,i+1):\n",
    "        print(k,end=' ')\n",
    "        k=int(k*(i-j)/j)\n",
    "    print(' ')"
   ]
  },
  {
   "cell_type": "code",
   "execution_count": 27,
   "metadata": {},
   "outputs": [
    {
     "name": "stdout",
     "output_type": "stream",
     "text": [
      "1 2 3 4 5  \n",
      "2 2 3 4 5  \n",
      "3 3 3 4 5  \n",
      "4 4 4 4 5  \n",
      "5 5 5 5 5  \n"
     ]
    }
   ],
   "source": [
    "for i in range(1,6):\n",
    "    for j in range(1,6):\n",
    "        if(j<i):\n",
    "            print(i,end=' ')\n",
    "        else:\n",
    "            print(j,end=' ')\n",
    "    print(' ')"
   ]
  },
  {
   "cell_type": "code",
   "execution_count": 30,
   "metadata": {},
   "outputs": [
    {
     "name": "stdout",
     "output_type": "stream",
     "text": [
      "1  \n",
      "2 4  \n",
      "3 6 9  \n",
      "4 8 12 16  \n",
      "5 10 15 20 25  \n",
      "6 12 18 24 30 36  \n",
      "7 14 21 28 35 42 49  \n",
      "8 16 24 32 40 48 56 64  \n"
     ]
    }
   ],
   "source": [
    "for i in range(1,9):\n",
    "    k=i\n",
    "    for j in range(1,i+1):\n",
    "        print(k,end=' ')\n",
    "        k=k+i\n",
    "    print(' ')"
   ]
  },
  {
   "cell_type": "code",
   "execution_count": 31,
   "metadata": {},
   "outputs": [
    {
     "name": "stdout",
     "output_type": "stream",
     "text": [
      "          * * * * * * *  \n",
      "           * * * * * *  \n",
      "            * * * * *  \n",
      "             * * * *  \n",
      "              * * *  \n",
      "               * *  \n",
      "                *  \n"
     ]
    }
   ],
   "source": [
    "row=6\n",
    "k=(2*row)-2\n",
    "for i in range(row,-1,-1):\n",
    "    for j in range(k,0,-1):\n",
    "        print(end=' ')\n",
    "    k+=1\n",
    "    for j in range(0,i+1):\n",
    "        print('*',end=' ')\n",
    "    print(' ')"
   ]
  },
  {
   "cell_type": "code",
   "execution_count": 32,
   "metadata": {},
   "outputs": [
    {
     "name": "stdout",
     "output_type": "stream",
     "text": [
      "            *  \n",
      "           * *  \n",
      "          * * *  \n",
      "         * * * *  \n",
      "        * * * * *  \n",
      "       * * * * * *  \n",
      "      * * * * * * *  \n"
     ]
    }
   ],
   "source": [
    "row=7\n",
    "k=(2*row)-2\n",
    "for i in range(0,row):\n",
    "    for j in range(k,0,-1):\n",
    "        print(end=' ')\n",
    "    k-=1\n",
    "    for j in range(0,i+1):\n",
    "        print('*',end=' ')\n",
    "    print(' ')"
   ]
  },
  {
   "cell_type": "code",
   "execution_count": 64,
   "metadata": {},
   "outputs": [
    {
     "name": "stdout",
     "output_type": "stream",
     "text": [
      "*  \n",
      "* *  \n",
      "* * *  \n",
      "* * * *  \n",
      "* * * * *  \n",
      "* * * * * *  \n",
      "\n",
      "* * * * * *  \n",
      "* * * * *  \n",
      "* * * *  \n",
      "* * *  \n",
      "* *  \n",
      "*  \n"
     ]
    }
   ],
   "source": [
    "for i in range(0,6):\n",
    "    for j in range(0,i+1):\n",
    "        print('*',end=' ')\n",
    "    print(' ')\n",
    "print()\n",
    "for i in range(6,0,-1):\n",
    "    for j in range(0,i):\n",
    "        print(\"*\",end=' ')\n",
    "    print(' ')"
   ]
  },
  {
   "cell_type": "code",
   "execution_count": 71,
   "metadata": {},
   "outputs": [
    {
     "name": "stdout",
     "output_type": "stream",
     "text": [
      "*  \n",
      "* *  \n",
      "* * *  \n",
      "* * * *  \n",
      "* * * * *  \n",
      "* * * * * *  \n",
      "* * * * *  \n",
      "* * * *  \n",
      "* * *  \n",
      "* *  \n",
      "*  \n"
     ]
    }
   ],
   "source": [
    "for i in range(0,5):\n",
    "    for j in range(0,i+1):\n",
    "        print('*',end=' ')\n",
    "    print(' ')\n",
    "for i in range(5,-1,-1):\n",
    "    for j in range(0,i+1):\n",
    "        print('*',end=' ')\n",
    "    print(' ')"
   ]
  },
  {
   "cell_type": "code",
   "execution_count": 40,
   "metadata": {},
   "outputs": [
    {
     "name": "stdout",
     "output_type": "stream",
     "text": [
      "        *  \n",
      "      * *  \n",
      "    * * *  \n",
      "  * * * *  \n",
      "* * * * *  \n",
      "  * * * *  \n",
      "    * * *  \n",
      "      * *  \n",
      "        *  \n",
      "           \n"
     ]
    }
   ],
   "source": [
    "row=5\n",
    "k=(2*row)-2\n",
    "for i in range(0,row):\n",
    "    for j in range(k,0,-1):\n",
    "        print(end=' ')\n",
    "    k-=2\n",
    "    for j in range(0,i+1):\n",
    "        print('*',end=' ')\n",
    "    print(' ')\n",
    "k=2\n",
    "for i in range(row,0,-1):\n",
    "    for j in range(0,k):\n",
    "        print(end=' ')\n",
    "    k+=2\n",
    "    for j in range(0,i-1):\n",
    "        print('*',end=' ')\n",
    "    print(' ')"
   ]
  },
  {
   "cell_type": "code",
   "execution_count": 50,
   "metadata": {},
   "outputs": [
    {
     "name": "stdout",
     "output_type": "stream",
     "text": [
      "   * * * * * *  \n",
      "    * * * * *  \n",
      "     * * * *  \n",
      "      * * *  \n",
      "       * *  \n",
      "        *  \n",
      "        *  \n",
      "       * *  \n",
      "      * * *  \n",
      "     * * * *  \n",
      "    * * * * *  \n",
      "   * * * * * *  \n"
     ]
    }
   ],
   "source": [
    "row=5\n",
    "k=row-2\n",
    "for i in range(row,-1,-1):\n",
    "    for j in range(k,0,-1):\n",
    "        print(end=' ')\n",
    "    k+=1\n",
    "    for j in range(0,i+1):\n",
    "        print(\"*\",end=' ')\n",
    "    print(' ')\n",
    "k=(2*row)-2\n",
    "for i in range(0,row+1):\n",
    "    for j in range(k,0,-1):\n",
    "        print(end=' ')\n",
    "    k-=1\n",
    "    for j in range(0,i+1):\n",
    "        print('*',end=' ')\n",
    "    print(' ')"
   ]
  },
  {
   "cell_type": "code",
   "execution_count": 66,
   "metadata": {
    "scrolled": true
   },
   "outputs": [
    {
     "name": "stdout",
     "output_type": "stream",
     "text": [
      "**************** \n",
      "*******__******* \n",
      "******____****** \n",
      "*****______***** \n",
      "****________**** \n",
      "***__________*** \n",
      "**____________** \n",
      "*______________* \n"
     ]
    }
   ],
   "source": [
    "row=8\n",
    "\n",
    "for j in range(0,2*row):\n",
    "    print(\"*\",end='')\n",
    "print(' ')\n",
    "k=1\n",
    "for i in range(row-1,0,-1):\n",
    "    for j in range(0,i):\n",
    "        print('*',end='')\n",
    "    for x in range(0,k*2):\n",
    "        print('_',end='')\n",
    "    for j in range(j,-1,-1):\n",
    "        print('*',end='')\n",
    "    k+=1\n",
    "    print(' ')"
   ]
  }
 ],
 "metadata": {
  "kernelspec": {
   "display_name": "Python 3",
   "language": "python",
   "name": "python3"
  },
  "language_info": {
   "codemirror_mode": {
    "name": "ipython",
    "version": 3
   },
   "file_extension": ".py",
   "mimetype": "text/x-python",
   "name": "python",
   "nbconvert_exporter": "python",
   "pygments_lexer": "ipython3",
   "version": "3.7.4"
  }
 },
 "nbformat": 4,
 "nbformat_minor": 2
}
